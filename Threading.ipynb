{
 "cells": [
  {
   "cell_type": "code",
   "execution_count": 1,
   "id": "b6f683ba",
   "metadata": {},
   "outputs": [],
   "source": [
    "from scholarly import scholarly\n",
    "import json\n",
    "import time\n",
    "import threading\n",
    "baslangic_zamani = time.time()"
   ]
  },
  {
   "cell_type": "code",
   "execution_count": 2,
   "id": "39754c40",
   "metadata": {},
   "outputs": [],
   "source": [
    "class Queue(object):\n",
    "    def __init__(self):\n",
    "        self.item=[]\n",
    "    \n",
    "    def enque(self,add):\n",
    "        self.item.insert(0,add)\n",
    "        return True\n",
    "    def size(self):\n",
    "        return (len(self.item))\n",
    "    def isEmpty(self):\n",
    "        if self.size()==0:\n",
    "            return True\n",
    "        else:\n",
    "            return False\n",
    "    def deque(self):\n",
    "        if (self.size()==0):\n",
    "            return None\n",
    "        else:\n",
    "            return self.item.pop()"
   ]
  },
  {
   "cell_type": "code",
   "execution_count": 3,
   "id": "c19e9d27",
   "metadata": {},
   "outputs": [],
   "source": [
    "global queue\n",
    "queue = Queue()"
   ]
  },
  {
   "cell_type": "code",
   "execution_count": null,
   "id": "4f856fe6",
   "metadata": {
    "scrolled": false
   },
   "outputs": [],
   "source": [
    "author = scholarly.search_author_id('nwDz-xVu1FcC')#id ile arama yapar. dict çıktısı verir.\n",
    "name = author.get('name')#dict'ten name'i çeker.\n",
    "\n",
    "search_query = scholarly.search_author(name)#yazarı arar.\n",
    "author_filled = scholarly.fill(next(search_query))#yazarın özelliklerini doldurur.\n",
    "information = \"[\"\n",
    "def getJson (pub):\n",
    "    pFilled = scholarly.fill(pub)\n",
    "    jsonstr1  = json.dumps(pFilled)\n",
    "    value = str(jsonstr1)\n",
    "    queue.enque(value)\n",
    "\n",
    "for (i, pub) in enumerate(author_filled['publications']):\n",
    "    t = threading.Thread(target = getJson,args = (pub,))\n",
    "    t.start()\n",
    "    t.join()\n",
    "while True:\n",
    "    flag = queue.isEmpty()\n",
    "    if flag:\n",
    "        pass\n",
    "    elif(queue.size() == 1):\n",
    "        information = information + queue.deque() + \"]\"\n",
    "    elif (queue.size()>1):\n",
    "        information = information + queue.deque() + \",\"\n",
    "    else:\n",
    "        break\n",
    "        \n",
    "print(information)\n",
    "\n"
   ]
  },
  {
   "cell_type": "code",
   "execution_count": null,
   "id": "17705dcb",
   "metadata": {},
   "outputs": [],
   "source": [
    "print(\"--- %s saniye ---\" % (time.time() - baslangic_zamani))"
   ]
  },
  {
   "cell_type": "code",
   "execution_count": null,
   "id": "fd1e866a",
   "metadata": {},
   "outputs": [],
   "source": []
  }
 ],
 "metadata": {
  "kernelspec": {
   "display_name": "Python 3 (ipykernel)",
   "language": "python",
   "name": "python3"
  },
  "language_info": {
   "codemirror_mode": {
    "name": "ipython",
    "version": 3
   },
   "file_extension": ".py",
   "mimetype": "text/x-python",
   "name": "python",
   "nbconvert_exporter": "python",
   "pygments_lexer": "ipython3",
   "version": "3.10.7"
  }
 },
 "nbformat": 4,
 "nbformat_minor": 5
}
