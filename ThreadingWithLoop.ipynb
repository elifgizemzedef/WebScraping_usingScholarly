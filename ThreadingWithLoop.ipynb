{
 "cells": [
  {
   "cell_type": "code",
   "execution_count": 1,
   "id": "7136951f",
   "metadata": {},
   "outputs": [],
   "source": [
    "from scholarly import scholarly\n",
    "import json\n",
    "import time\n",
    "import threading\n",
    "baslangic_zamani = time.time()"
   ]
  },
  {
   "cell_type": "code",
   "execution_count": 2,
   "id": "02fc07a3",
   "metadata": {},
   "outputs": [],
   "source": [
    "class Queue(object):\n",
    "    def __init__(self):\n",
    "        self.item=[]\n",
    "    \n",
    "    def enque(self,add):\n",
    "        self.item.insert(0,add)\n",
    "        return True\n",
    "    def size(self):\n",
    "        return (len(self.item))\n",
    "    def isEmpty(self):\n",
    "        if self.size()==0:\n",
    "            return True\n",
    "        else:\n",
    "            return False\n",
    "    def deque(self):\n",
    "        if (self.size()==0):\n",
    "            return None\n",
    "        else:\n",
    "            return self.item.pop()\n",
    "global queue\n",
    "queue = Queue()"
   ]
  },
  {
   "cell_type": "code",
   "execution_count": 3,
   "id": "dd271b07",
   "metadata": {},
   "outputs": [
    {
     "ename": "KeyboardInterrupt",
     "evalue": "",
     "output_type": "error",
     "traceback": [
      "\u001b[1;31m---------------------------------------------------------------------------\u001b[0m",
      "\u001b[1;31mKeyboardInterrupt\u001b[0m                         Traceback (most recent call last)",
      "Input \u001b[1;32mIn [3]\u001b[0m, in \u001b[0;36m<cell line: 21>\u001b[1;34m()\u001b[0m\n\u001b[0;32m     19\u001b[0m     thread\u001b[38;5;241m.\u001b[39mjoin()\n\u001b[0;32m     20\u001b[0m \u001b[38;5;28;01mwhile\u001b[39;00m \u001b[38;5;28;01mTrue\u001b[39;00m:\n\u001b[1;32m---> 21\u001b[0m     flag \u001b[38;5;241m=\u001b[39m \u001b[43mqueue\u001b[49m\u001b[38;5;241;43m.\u001b[39;49m\u001b[43misEmpty\u001b[49m\u001b[43m(\u001b[49m\u001b[43m)\u001b[49m\n\u001b[0;32m     22\u001b[0m     \u001b[38;5;28;01mif\u001b[39;00m flag:\n\u001b[0;32m     23\u001b[0m         \u001b[38;5;28;01mpass\u001b[39;00m\n",
      "Input \u001b[1;32mIn [2]\u001b[0m, in \u001b[0;36mQueue.isEmpty\u001b[1;34m(self)\u001b[0m\n\u001b[0;32m     10\u001b[0m \u001b[38;5;28;01mdef\u001b[39;00m \u001b[38;5;21misEmpty\u001b[39m(\u001b[38;5;28mself\u001b[39m):\n\u001b[1;32m---> 11\u001b[0m     \u001b[38;5;28;01mif\u001b[39;00m \u001b[38;5;28;43mself\u001b[39;49m\u001b[38;5;241;43m.\u001b[39;49m\u001b[43msize\u001b[49m\u001b[43m(\u001b[49m\u001b[43m)\u001b[49m\u001b[38;5;241m==\u001b[39m\u001b[38;5;241m0\u001b[39m:\n\u001b[0;32m     12\u001b[0m         \u001b[38;5;28;01mreturn\u001b[39;00m \u001b[38;5;28;01mTrue\u001b[39;00m\n\u001b[0;32m     13\u001b[0m     \u001b[38;5;28;01melse\u001b[39;00m:\n",
      "Input \u001b[1;32mIn [2]\u001b[0m, in \u001b[0;36mQueue.size\u001b[1;34m(self)\u001b[0m\n\u001b[0;32m      8\u001b[0m \u001b[38;5;28;01mdef\u001b[39;00m \u001b[38;5;21msize\u001b[39m(\u001b[38;5;28mself\u001b[39m):\n\u001b[1;32m----> 9\u001b[0m     \u001b[38;5;28;01mreturn\u001b[39;00m (\u001b[38;5;28;43mlen\u001b[39;49m\u001b[43m(\u001b[49m\u001b[38;5;28;43mself\u001b[39;49m\u001b[38;5;241;43m.\u001b[39;49m\u001b[43mitem\u001b[49m\u001b[43m)\u001b[49m)\n",
      "\u001b[1;31mKeyboardInterrupt\u001b[0m: "
     ]
    }
   ],
   "source": [
    "author = scholarly.search_author_id('nwDz-xVu1FcC')#id ile arama yapar. dict çıktısı verir.\n",
    "name = author.get('name')#dict'ten name'i çeker.\n",
    "search_query = scholarly.search_author(name)#yazarı arar.\n",
    "author_filled = scholarly.fill(next(search_query))#yazarın özelliklerini doldurur.\n",
    "information = \"[\"\n",
    "def getJson (pub):\n",
    "    time.sleep(10)\n",
    "    pFilled = scholarly.fill(pub)\n",
    "    jsonstr1  = json.dumps(pFilled)\n",
    "    value = str(jsonstr1)\n",
    "    queue.enque(value)\n",
    "    \n",
    "threads=[]\n",
    "for (i, pub) in enumerate(author_filled['publications']):\n",
    "    t = threading.Thread(target = getJson,args = (pub,))\n",
    "    t.start()    \n",
    "    threads.append(t)\n",
    "for thread in threads:\n",
    "    thread.join()\n",
    "while True:\n",
    "    flag = queue.isEmpty()\n",
    "    if flag:\n",
    "        pass\n",
    "    elif(queue.size() == 1):\n",
    "        information = information + queue.deque() + \"]\"\n",
    "    elif (queue.size()>1):\n",
    "        information = information + queue.deque() + \",\"\n",
    "    else:\n",
    "        break\n",
    "        \n",
    "print(information)"
   ]
  },
  {
   "cell_type": "code",
   "execution_count": null,
   "id": "5ffa7e4a",
   "metadata": {},
   "outputs": [],
   "source": [
    "print(\"--- %s saniye ---\" % (time.time() - baslangic_zamani))"
   ]
  },
  {
   "cell_type": "code",
   "execution_count": null,
   "id": "3c5f21ce",
   "metadata": {},
   "outputs": [],
   "source": []
  }
 ],
 "metadata": {
  "kernelspec": {
   "display_name": "Python 3 (ipykernel)",
   "language": "python",
   "name": "python3"
  },
  "language_info": {
   "codemirror_mode": {
    "name": "ipython",
    "version": 3
   },
   "file_extension": ".py",
   "mimetype": "text/x-python",
   "name": "python",
   "nbconvert_exporter": "python",
   "pygments_lexer": "ipython3",
   "version": "3.10.7"
  }
 },
 "nbformat": 4,
 "nbformat_minor": 5
}
